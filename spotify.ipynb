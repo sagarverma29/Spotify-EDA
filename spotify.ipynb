{
 "cells": [
  {
   "cell_type": "code",
   "execution_count": 1,
   "metadata": {},
   "outputs": [],
   "source": [
    "import numpy as np\n",
    "import pandas as pd \n",
    "import matplotlib.pyplot as plt \n",
    "import seaborn as sns\n",
    "import plotly.express as px\n",
    "import datetime as dt "
   ]
  },
  {
   "cell_type": "code",
   "execution_count": 2,
   "metadata": {},
   "outputs": [],
   "source": [
    "streaming_history_2024= pd.read_json(r\"dataset files\\Streaming_History_Audio_2024_8.json\")\n",
    "streaming_history_2024_2023 = pd.read_json(r\"dataset files\\Streaming_History_Audio_2023-2024_7.json\")"
   ]
  },
  {
   "cell_type": "code",
   "execution_count": 3,
   "metadata": {},
   "outputs": [
    {
     "data": {
      "text/plain": [
       "20"
      ]
     },
     "execution_count": 3,
     "metadata": {},
     "output_type": "execute_result"
    }
   ],
   "source": [
    "pd.get_option(\"display.max_columns\")"
   ]
  },
  {
   "cell_type": "code",
   "execution_count": 4,
   "metadata": {},
   "outputs": [],
   "source": [
    "streaming_history_2024.drop(columns= ['ip_addr','spotify_track_uri','episode_name','episode_show_name','spotify_episode_uri',\\\n",
    "                                      'reason_start','reason_end','shuffle','skipped','offline','offline_timestamp','incognito_mode'],\\\n",
    "                                        axis=1, inplace=True)"
   ]
  },
  {
   "cell_type": "code",
   "execution_count": 5,
   "metadata": {},
   "outputs": [],
   "source": [
    "streaming_history_2024.rename(columns= {'master_metadata_track_name':'Track_name','master_metadata_album_artist_name':'Artist_name',\\\n",
    "                                        'master_metadata_album_album_name':'Album_name'}, inplace=True)"
   ]
  },
  {
   "cell_type": "code",
   "execution_count": 6,
   "metadata": {},
   "outputs": [],
   "source": [
    "streaming_history_2024_2023.drop(columns=['ip_addr','spotify_track_uri','episode_name','spotify_episode_uri',\\\n",
    "                                          'reason_start','reason_end','shuffle','skipped','offline','offline_timestamp',\\\n",
    "                                            'incognito_mode','episode_show_name'], axis=1, inplace=True)"
   ]
  },
  {
   "cell_type": "code",
   "execution_count": 7,
   "metadata": {},
   "outputs": [],
   "source": [
    "streaming_history_2024_2023.rename(columns={'master_metadata_track_name':'Track_name',\\\n",
    "                                            'master_metadata_album_artist_name':'Artist_name',\\\n",
    "                                            'master_metadata_album_album_name':'Album_name'}, inplace=True)"
   ]
  },
  {
   "cell_type": "code",
   "execution_count": 8,
   "metadata": {},
   "outputs": [],
   "source": [
    "streaming_history_2024_2023['date'] = pd.to_datetime(streaming_history_2024_2023['ts']).dt.date\n",
    "streaming_history_2024['date'] = pd.to_datetime(streaming_history_2024['ts']).dt.date"
   ]
  },
  {
   "cell_type": "code",
   "execution_count": 9,
   "metadata": {},
   "outputs": [],
   "source": [
    "streaming_history_2024_2023['year'] = pd.to_datetime(streaming_history_2024_2023['date']).dt.year\n",
    "streaming_history_2024['year'] = pd.to_datetime(streaming_history_2024['date']).dt.year"
   ]
  },
  {
   "cell_type": "code",
   "execution_count": 10,
   "metadata": {},
   "outputs": [
    {
     "data": {
      "text/html": [
       "<div>\n",
       "<style scoped>\n",
       "    .dataframe tbody tr th:only-of-type {\n",
       "        vertical-align: middle;\n",
       "    }\n",
       "\n",
       "    .dataframe tbody tr th {\n",
       "        vertical-align: top;\n",
       "    }\n",
       "\n",
       "    .dataframe thead th {\n",
       "        text-align: right;\n",
       "    }\n",
       "</style>\n",
       "<table border=\"1\" class=\"dataframe\">\n",
       "  <thead>\n",
       "    <tr style=\"text-align: right;\">\n",
       "      <th></th>\n",
       "      <th>ts</th>\n",
       "      <th>platform</th>\n",
       "      <th>ms_played</th>\n",
       "      <th>conn_country</th>\n",
       "      <th>Track_name</th>\n",
       "      <th>Artist_name</th>\n",
       "      <th>Album_name</th>\n",
       "      <th>date</th>\n",
       "      <th>year</th>\n",
       "    </tr>\n",
       "  </thead>\n",
       "  <tbody>\n",
       "    <tr>\n",
       "      <th>0</th>\n",
       "      <td>2023-06-26T11:33:33Z</td>\n",
       "      <td>android</td>\n",
       "      <td>33571</td>\n",
       "      <td>IN</td>\n",
       "      <td>Bye Bye Blues</td>\n",
       "      <td>Stela Cole</td>\n",
       "      <td>Bye Bye Blues</td>\n",
       "      <td>2023-06-26</td>\n",
       "      <td>2023</td>\n",
       "    </tr>\n",
       "    <tr>\n",
       "      <th>1</th>\n",
       "      <td>2023-06-26T11:37:25Z</td>\n",
       "      <td>android</td>\n",
       "      <td>136956</td>\n",
       "      <td>IN</td>\n",
       "      <td>Bye Bye Blues</td>\n",
       "      <td>Stela Cole</td>\n",
       "      <td>Bye Bye Blues</td>\n",
       "      <td>2023-06-26</td>\n",
       "      <td>2023</td>\n",
       "    </tr>\n",
       "    <tr>\n",
       "      <th>2</th>\n",
       "      <td>2023-06-26T11:39:41Z</td>\n",
       "      <td>android</td>\n",
       "      <td>141575</td>\n",
       "      <td>IN</td>\n",
       "      <td>Rich Like That - deluxe</td>\n",
       "      <td>ELIO</td>\n",
       "      <td>ELIO'S INFERNO</td>\n",
       "      <td>2023-06-26</td>\n",
       "      <td>2023</td>\n",
       "    </tr>\n",
       "    <tr>\n",
       "      <th>3</th>\n",
       "      <td>2023-06-26T11:42:11Z</td>\n",
       "      <td>android</td>\n",
       "      <td>156000</td>\n",
       "      <td>IN</td>\n",
       "      <td>people must think we’re idiots</td>\n",
       "      <td>Emily Vaughn</td>\n",
       "      <td>people must think we’re idiots</td>\n",
       "      <td>2023-06-26</td>\n",
       "      <td>2023</td>\n",
       "    </tr>\n",
       "    <tr>\n",
       "      <th>4</th>\n",
       "      <td>2023-06-26T11:45:04Z</td>\n",
       "      <td>android</td>\n",
       "      <td>179446</td>\n",
       "      <td>IN</td>\n",
       "      <td>Something In The Way</td>\n",
       "      <td>bülow</td>\n",
       "      <td>Something In The Way</td>\n",
       "      <td>2023-06-26</td>\n",
       "      <td>2023</td>\n",
       "    </tr>\n",
       "  </tbody>\n",
       "</table>\n",
       "</div>"
      ],
      "text/plain": [
       "                     ts platform  ms_played conn_country  \\\n",
       "0  2023-06-26T11:33:33Z  android      33571           IN   \n",
       "1  2023-06-26T11:37:25Z  android     136956           IN   \n",
       "2  2023-06-26T11:39:41Z  android     141575           IN   \n",
       "3  2023-06-26T11:42:11Z  android     156000           IN   \n",
       "4  2023-06-26T11:45:04Z  android     179446           IN   \n",
       "\n",
       "                       Track_name   Artist_name  \\\n",
       "0                   Bye Bye Blues    Stela Cole   \n",
       "1                   Bye Bye Blues    Stela Cole   \n",
       "2         Rich Like That - deluxe          ELIO   \n",
       "3  people must think we’re idiots  Emily Vaughn   \n",
       "4            Something In The Way         bülow   \n",
       "\n",
       "                       Album_name        date  year  \n",
       "0                   Bye Bye Blues  2023-06-26  2023  \n",
       "1                   Bye Bye Blues  2023-06-26  2023  \n",
       "2                  ELIO'S INFERNO  2023-06-26  2023  \n",
       "3  people must think we’re idiots  2023-06-26  2023  \n",
       "4            Something In The Way  2023-06-26  2023  "
      ]
     },
     "execution_count": 10,
     "metadata": {},
     "output_type": "execute_result"
    }
   ],
   "source": [
    "streaming_history_2024_2023.head()"
   ]
  },
  {
   "cell_type": "code",
   "execution_count": 11,
   "metadata": {},
   "outputs": [
    {
     "data": {
      "text/html": [
       "<div>\n",
       "<style scoped>\n",
       "    .dataframe tbody tr th:only-of-type {\n",
       "        vertical-align: middle;\n",
       "    }\n",
       "\n",
       "    .dataframe tbody tr th {\n",
       "        vertical-align: top;\n",
       "    }\n",
       "\n",
       "    .dataframe thead th {\n",
       "        text-align: right;\n",
       "    }\n",
       "</style>\n",
       "<table border=\"1\" class=\"dataframe\">\n",
       "  <thead>\n",
       "    <tr style=\"text-align: right;\">\n",
       "      <th></th>\n",
       "      <th>ts</th>\n",
       "      <th>platform</th>\n",
       "      <th>ms_played</th>\n",
       "      <th>conn_country</th>\n",
       "      <th>Track_name</th>\n",
       "      <th>Artist_name</th>\n",
       "      <th>Album_name</th>\n",
       "      <th>date</th>\n",
       "      <th>year</th>\n",
       "    </tr>\n",
       "  </thead>\n",
       "  <tbody>\n",
       "    <tr>\n",
       "      <th>0</th>\n",
       "      <td>2024-05-04T11:00:08Z</td>\n",
       "      <td>osx</td>\n",
       "      <td>9653</td>\n",
       "      <td>IN</td>\n",
       "      <td>None Of My Business</td>\n",
       "      <td>Cher Lloyd</td>\n",
       "      <td>None Of My Business</td>\n",
       "      <td>2024-05-04</td>\n",
       "      <td>2024</td>\n",
       "    </tr>\n",
       "    <tr>\n",
       "      <th>1</th>\n",
       "      <td>2024-05-04T11:00:55Z</td>\n",
       "      <td>osx</td>\n",
       "      <td>47082</td>\n",
       "      <td>IN</td>\n",
       "      <td>None Of My Business</td>\n",
       "      <td>Cher Lloyd</td>\n",
       "      <td>None Of My Business</td>\n",
       "      <td>2024-05-04</td>\n",
       "      <td>2024</td>\n",
       "    </tr>\n",
       "    <tr>\n",
       "      <th>2</th>\n",
       "      <td>2024-05-04T11:01:09Z</td>\n",
       "      <td>osx</td>\n",
       "      <td>12373</td>\n",
       "      <td>IN</td>\n",
       "      <td>None Of My Business</td>\n",
       "      <td>Cher Lloyd</td>\n",
       "      <td>None Of My Business</td>\n",
       "      <td>2024-05-04</td>\n",
       "      <td>2024</td>\n",
       "    </tr>\n",
       "    <tr>\n",
       "      <th>3</th>\n",
       "      <td>2024-05-04T11:01:09Z</td>\n",
       "      <td>osx</td>\n",
       "      <td>85</td>\n",
       "      <td>IN</td>\n",
       "      <td>None Of My Business</td>\n",
       "      <td>Cher Lloyd</td>\n",
       "      <td>None Of My Business</td>\n",
       "      <td>2024-05-04</td>\n",
       "      <td>2024</td>\n",
       "    </tr>\n",
       "    <tr>\n",
       "      <th>4</th>\n",
       "      <td>2024-05-04T11:01:21Z</td>\n",
       "      <td>osx</td>\n",
       "      <td>12554</td>\n",
       "      <td>IN</td>\n",
       "      <td>None Of My Business</td>\n",
       "      <td>Cher Lloyd</td>\n",
       "      <td>None Of My Business</td>\n",
       "      <td>2024-05-04</td>\n",
       "      <td>2024</td>\n",
       "    </tr>\n",
       "  </tbody>\n",
       "</table>\n",
       "</div>"
      ],
      "text/plain": [
       "                     ts platform  ms_played conn_country           Track_name  \\\n",
       "0  2024-05-04T11:00:08Z      osx       9653           IN  None Of My Business   \n",
       "1  2024-05-04T11:00:55Z      osx      47082           IN  None Of My Business   \n",
       "2  2024-05-04T11:01:09Z      osx      12373           IN  None Of My Business   \n",
       "3  2024-05-04T11:01:09Z      osx         85           IN  None Of My Business   \n",
       "4  2024-05-04T11:01:21Z      osx      12554           IN  None Of My Business   \n",
       "\n",
       "  Artist_name           Album_name        date  year  \n",
       "0  Cher Lloyd  None Of My Business  2024-05-04  2024  \n",
       "1  Cher Lloyd  None Of My Business  2024-05-04  2024  \n",
       "2  Cher Lloyd  None Of My Business  2024-05-04  2024  \n",
       "3  Cher Lloyd  None Of My Business  2024-05-04  2024  \n",
       "4  Cher Lloyd  None Of My Business  2024-05-04  2024  "
      ]
     },
     "execution_count": 11,
     "metadata": {},
     "output_type": "execute_result"
    }
   ],
   "source": [
    "streaming_history_2024.head()"
   ]
  },
  {
   "cell_type": "code",
   "execution_count": 12,
   "metadata": {},
   "outputs": [],
   "source": [
    "streaming_history_2024_2023_filtered = streaming_history_2024_2023[streaming_history_2024_2023['year']==2024]"
   ]
  },
  {
   "cell_type": "code",
   "execution_count": 13,
   "metadata": {},
   "outputs": [
    {
     "data": {
      "text/html": [
       "<div>\n",
       "<style scoped>\n",
       "    .dataframe tbody tr th:only-of-type {\n",
       "        vertical-align: middle;\n",
       "    }\n",
       "\n",
       "    .dataframe tbody tr th {\n",
       "        vertical-align: top;\n",
       "    }\n",
       "\n",
       "    .dataframe thead th {\n",
       "        text-align: right;\n",
       "    }\n",
       "</style>\n",
       "<table border=\"1\" class=\"dataframe\">\n",
       "  <thead>\n",
       "    <tr style=\"text-align: right;\">\n",
       "      <th></th>\n",
       "      <th>index</th>\n",
       "      <th>ts</th>\n",
       "      <th>platform</th>\n",
       "      <th>ms_played</th>\n",
       "      <th>conn_country</th>\n",
       "      <th>Track_name</th>\n",
       "      <th>Artist_name</th>\n",
       "      <th>Album_name</th>\n",
       "      <th>date</th>\n",
       "      <th>year</th>\n",
       "    </tr>\n",
       "  </thead>\n",
       "  <tbody>\n",
       "    <tr>\n",
       "      <th>0</th>\n",
       "      <td>9878</td>\n",
       "      <td>2024-01-01T03:04:10Z</td>\n",
       "      <td>android</td>\n",
       "      <td>60487</td>\n",
       "      <td>IN</td>\n",
       "      <td>Hotel</td>\n",
       "      <td>Claire Rosinkranz</td>\n",
       "      <td>6 Of A Billion</td>\n",
       "      <td>2024-01-01</td>\n",
       "      <td>2024</td>\n",
       "    </tr>\n",
       "    <tr>\n",
       "      <th>1</th>\n",
       "      <td>9879</td>\n",
       "      <td>2024-01-01T03:06:28Z</td>\n",
       "      <td>android</td>\n",
       "      <td>147368</td>\n",
       "      <td>IN</td>\n",
       "      <td>CHARGER (ft. Charli XCX)</td>\n",
       "      <td>ELIO</td>\n",
       "      <td>ELIO and Friends : The Remixes</td>\n",
       "      <td>2024-01-01</td>\n",
       "      <td>2024</td>\n",
       "    </tr>\n",
       "    <tr>\n",
       "      <th>2</th>\n",
       "      <td>9880</td>\n",
       "      <td>2024-01-01T03:08:51Z</td>\n",
       "      <td>android</td>\n",
       "      <td>151077</td>\n",
       "      <td>IN</td>\n",
       "      <td>How to Be Alone</td>\n",
       "      <td>Rachel Grae</td>\n",
       "      <td>How to Be Alone</td>\n",
       "      <td>2024-01-01</td>\n",
       "      <td>2024</td>\n",
       "    </tr>\n",
       "    <tr>\n",
       "      <th>3</th>\n",
       "      <td>9881</td>\n",
       "      <td>2024-01-01T03:10:51Z</td>\n",
       "      <td>android</td>\n",
       "      <td>129938</td>\n",
       "      <td>IN</td>\n",
       "      <td>Scatterbrain</td>\n",
       "      <td>Emei</td>\n",
       "      <td>Scatterbrain</td>\n",
       "      <td>2024-01-01</td>\n",
       "      <td>2024</td>\n",
       "    </tr>\n",
       "    <tr>\n",
       "      <th>4</th>\n",
       "      <td>9882</td>\n",
       "      <td>2024-01-01T03:13:26Z</td>\n",
       "      <td>android</td>\n",
       "      <td>27536</td>\n",
       "      <td>IN</td>\n",
       "      <td>London Boy</td>\n",
       "      <td>Taylor Swift</td>\n",
       "      <td>Lover</td>\n",
       "      <td>2024-01-01</td>\n",
       "      <td>2024</td>\n",
       "    </tr>\n",
       "    <tr>\n",
       "      <th>...</th>\n",
       "      <td>...</td>\n",
       "      <td>...</td>\n",
       "      <td>...</td>\n",
       "      <td>...</td>\n",
       "      <td>...</td>\n",
       "      <td>...</td>\n",
       "      <td>...</td>\n",
       "      <td>...</td>\n",
       "      <td>...</td>\n",
       "      <td>...</td>\n",
       "    </tr>\n",
       "    <tr>\n",
       "      <th>9254</th>\n",
       "      <td>19132</td>\n",
       "      <td>2024-05-04T10:57:16Z</td>\n",
       "      <td>osx</td>\n",
       "      <td>178228</td>\n",
       "      <td>IN</td>\n",
       "      <td>Hate Me</td>\n",
       "      <td>Ellie Goulding</td>\n",
       "      <td>Brightest Blue</td>\n",
       "      <td>2024-05-04</td>\n",
       "      <td>2024</td>\n",
       "    </tr>\n",
       "    <tr>\n",
       "      <th>9255</th>\n",
       "      <td>19133</td>\n",
       "      <td>2024-05-04T10:57:18Z</td>\n",
       "      <td>osx</td>\n",
       "      <td>8234</td>\n",
       "      <td>IN</td>\n",
       "      <td>Queen</td>\n",
       "      <td>Loren Gray</td>\n",
       "      <td>Queen</td>\n",
       "      <td>2024-05-04</td>\n",
       "      <td>2024</td>\n",
       "    </tr>\n",
       "    <tr>\n",
       "      <th>9256</th>\n",
       "      <td>19134</td>\n",
       "      <td>2024-05-04T10:57:27Z</td>\n",
       "      <td>osx</td>\n",
       "      <td>9738</td>\n",
       "      <td>IN</td>\n",
       "      <td>Queen</td>\n",
       "      <td>Loren Gray</td>\n",
       "      <td>Queen</td>\n",
       "      <td>2024-05-04</td>\n",
       "      <td>2024</td>\n",
       "    </tr>\n",
       "    <tr>\n",
       "      <th>9257</th>\n",
       "      <td>19135</td>\n",
       "      <td>2024-05-04T10:59:57Z</td>\n",
       "      <td>osx</td>\n",
       "      <td>150805</td>\n",
       "      <td>IN</td>\n",
       "      <td>Queen</td>\n",
       "      <td>Loren Gray</td>\n",
       "      <td>Queen</td>\n",
       "      <td>2024-05-04</td>\n",
       "      <td>2024</td>\n",
       "    </tr>\n",
       "    <tr>\n",
       "      <th>9258</th>\n",
       "      <td>19136</td>\n",
       "      <td>2024-05-04T10:59:59Z</td>\n",
       "      <td>osx</td>\n",
       "      <td>8414</td>\n",
       "      <td>IN</td>\n",
       "      <td>None Of My Business</td>\n",
       "      <td>Cher Lloyd</td>\n",
       "      <td>None Of My Business</td>\n",
       "      <td>2024-05-04</td>\n",
       "      <td>2024</td>\n",
       "    </tr>\n",
       "  </tbody>\n",
       "</table>\n",
       "<p>9259 rows × 10 columns</p>\n",
       "</div>"
      ],
      "text/plain": [
       "      index                    ts platform  ms_played conn_country  \\\n",
       "0      9878  2024-01-01T03:04:10Z  android      60487           IN   \n",
       "1      9879  2024-01-01T03:06:28Z  android     147368           IN   \n",
       "2      9880  2024-01-01T03:08:51Z  android     151077           IN   \n",
       "3      9881  2024-01-01T03:10:51Z  android     129938           IN   \n",
       "4      9882  2024-01-01T03:13:26Z  android      27536           IN   \n",
       "...     ...                   ...      ...        ...          ...   \n",
       "9254  19132  2024-05-04T10:57:16Z      osx     178228           IN   \n",
       "9255  19133  2024-05-04T10:57:18Z      osx       8234           IN   \n",
       "9256  19134  2024-05-04T10:57:27Z      osx       9738           IN   \n",
       "9257  19135  2024-05-04T10:59:57Z      osx     150805           IN   \n",
       "9258  19136  2024-05-04T10:59:59Z      osx       8414           IN   \n",
       "\n",
       "                    Track_name        Artist_name  \\\n",
       "0                        Hotel  Claire Rosinkranz   \n",
       "1     CHARGER (ft. Charli XCX)               ELIO   \n",
       "2              How to Be Alone        Rachel Grae   \n",
       "3                 Scatterbrain               Emei   \n",
       "4                   London Boy       Taylor Swift   \n",
       "...                        ...                ...   \n",
       "9254                   Hate Me     Ellie Goulding   \n",
       "9255                     Queen         Loren Gray   \n",
       "9256                     Queen         Loren Gray   \n",
       "9257                     Queen         Loren Gray   \n",
       "9258       None Of My Business         Cher Lloyd   \n",
       "\n",
       "                          Album_name        date  year  \n",
       "0                     6 Of A Billion  2024-01-01  2024  \n",
       "1     ELIO and Friends : The Remixes  2024-01-01  2024  \n",
       "2                    How to Be Alone  2024-01-01  2024  \n",
       "3                       Scatterbrain  2024-01-01  2024  \n",
       "4                              Lover  2024-01-01  2024  \n",
       "...                              ...         ...   ...  \n",
       "9254                  Brightest Blue  2024-05-04  2024  \n",
       "9255                           Queen  2024-05-04  2024  \n",
       "9256                           Queen  2024-05-04  2024  \n",
       "9257                           Queen  2024-05-04  2024  \n",
       "9258             None Of My Business  2024-05-04  2024  \n",
       "\n",
       "[9259 rows x 10 columns]"
      ]
     },
     "execution_count": 13,
     "metadata": {},
     "output_type": "execute_result"
    }
   ],
   "source": [
    "streaming_history_2024_2023_filtered.reset_index()"
   ]
  },
  {
   "cell_type": "code",
   "execution_count": 14,
   "metadata": {},
   "outputs": [],
   "source": [
    "#Importing SQLAlchemy to integrate into the project\n",
    "from sqlalchemy import MetaData, create_engine, Column, Integer, String, Float, ForeignKey\n",
    "from sqlalchemy.orm import declarative_base\n",
    "from sqlalchemy.orm import sessionmaker, relationship\n",
    "from sqlalchemy import text\n",
    "metadata =MetaData()"
   ]
  },
  {
   "cell_type": "code",
   "execution_count": 15,
   "metadata": {},
   "outputs": [],
   "source": [
    "engine= create_engine('sqlite:///Spotify_data.db')"
   ]
  },
  {
   "cell_type": "code",
   "execution_count": 16,
   "metadata": {},
   "outputs": [
    {
     "data": {
      "text/plain": [
       "9259"
      ]
     },
     "execution_count": 16,
     "metadata": {},
     "output_type": "execute_result"
    }
   ],
   "source": [
    "streaming_history_2024.to_sql('SH2024', engine, index=False, if_exists='replace')\n",
    "streaming_history_2024_2023_filtered.to_sql('SH2324_filtered', engine, index= False, if_exists= 'replace')"
   ]
  },
  {
   "cell_type": "code",
   "execution_count": 26,
   "metadata": {},
   "outputs": [],
   "source": [
    "query= \"\"\"\n",
    "SELECT s24.ts, s24.platform, s24.ms_played, s24.conn_country, s24.Track_name, s24.Artist_name, s24.Album_name, s24.date, s24.year\n",
    "FROM SH2024 as s24\n",
    "UNION ALL \n",
    "SELECT s234.ts, s234.platform, s234.ms_played, s234.conn_country, s234.Track_name, s234.Artist_name, s234.Album_name, s234.date, s234.year\n",
    "FROM SH2324_filtered as s234\n",
    "\"\"\"\n",
    "spotify_2024 = pd.read_sql(query, engine)"
   ]
  },
  {
   "cell_type": "code",
   "execution_count": 27,
   "metadata": {},
   "outputs": [],
   "source": [
    "spotify_2024= spotify_2024.sort_values(by= 'date', ascending=True).reset_index(drop=True)"
   ]
  },
  {
   "cell_type": "code",
   "execution_count": 28,
   "metadata": {},
   "outputs": [],
   "source": [
    "spotify_2024['sec_played'] = spotify_2024['ms_played']/1000"
   ]
  },
  {
   "cell_type": "code",
   "execution_count": 29,
   "metadata": {},
   "outputs": [],
   "source": [
    "spotify_2024['sec_played'] = spotify_2024['sec_played'].apply(round)"
   ]
  },
  {
   "cell_type": "code",
   "execution_count": 30,
   "metadata": {},
   "outputs": [],
   "source": [
    "spotify_2024 = spotify_2024[spotify_2024['sec_played']>=30]"
   ]
  },
  {
   "cell_type": "code",
   "execution_count": 31,
   "metadata": {},
   "outputs": [
    {
     "data": {
      "text/html": [
       "<div>\n",
       "<style scoped>\n",
       "    .dataframe tbody tr th:only-of-type {\n",
       "        vertical-align: middle;\n",
       "    }\n",
       "\n",
       "    .dataframe tbody tr th {\n",
       "        vertical-align: top;\n",
       "    }\n",
       "\n",
       "    .dataframe thead th {\n",
       "        text-align: right;\n",
       "    }\n",
       "</style>\n",
       "<table border=\"1\" class=\"dataframe\">\n",
       "  <thead>\n",
       "    <tr style=\"text-align: right;\">\n",
       "      <th></th>\n",
       "      <th>ts</th>\n",
       "      <th>platform</th>\n",
       "      <th>ms_played</th>\n",
       "      <th>conn_country</th>\n",
       "      <th>Track_name</th>\n",
       "      <th>Artist_name</th>\n",
       "      <th>Album_name</th>\n",
       "      <th>date</th>\n",
       "      <th>year</th>\n",
       "      <th>sec_played</th>\n",
       "    </tr>\n",
       "  </thead>\n",
       "  <tbody>\n",
       "    <tr>\n",
       "      <th>73</th>\n",
       "      <td>2024-01-01T08:14:03Z</td>\n",
       "      <td>android</td>\n",
       "      <td>30797</td>\n",
       "      <td>IN</td>\n",
       "      <td>Oh My God</td>\n",
       "      <td>Adele</td>\n",
       "      <td>30</td>\n",
       "      <td>2024-01-01</td>\n",
       "      <td>2024</td>\n",
       "      <td>31</td>\n",
       "    </tr>\n",
       "    <tr>\n",
       "      <th>79</th>\n",
       "      <td>2024-01-01T08:12:12Z</td>\n",
       "      <td>android</td>\n",
       "      <td>48278</td>\n",
       "      <td>IN</td>\n",
       "      <td>High with You</td>\n",
       "      <td>Clemont</td>\n",
       "      <td>In the Beginning</td>\n",
       "      <td>2024-01-01</td>\n",
       "      <td>2024</td>\n",
       "      <td>48</td>\n",
       "    </tr>\n",
       "    <tr>\n",
       "      <th>84</th>\n",
       "      <td>2024-01-01T08:20:55Z</td>\n",
       "      <td>android</td>\n",
       "      <td>47376</td>\n",
       "      <td>IN</td>\n",
       "      <td>Despacito</td>\n",
       "      <td>Luis Fonsi</td>\n",
       "      <td>VIDA</td>\n",
       "      <td>2024-01-01</td>\n",
       "      <td>2024</td>\n",
       "      <td>47</td>\n",
       "    </tr>\n",
       "    <tr>\n",
       "      <th>90</th>\n",
       "      <td>2024-01-01T08:19:39Z</td>\n",
       "      <td>android</td>\n",
       "      <td>31672</td>\n",
       "      <td>IN</td>\n",
       "      <td>MONTERO (Call Me By Your Name)</td>\n",
       "      <td>Lil Nas X</td>\n",
       "      <td>MONTERO</td>\n",
       "      <td>2024-01-01</td>\n",
       "      <td>2024</td>\n",
       "      <td>32</td>\n",
       "    </tr>\n",
       "    <tr>\n",
       "      <th>113</th>\n",
       "      <td>2024-01-01T11:04:30Z</td>\n",
       "      <td>android</td>\n",
       "      <td>188174</td>\n",
       "      <td>IN</td>\n",
       "      <td>Slow Hands</td>\n",
       "      <td>Niall Horan</td>\n",
       "      <td>Flicker</td>\n",
       "      <td>2024-01-01</td>\n",
       "      <td>2024</td>\n",
       "      <td>188</td>\n",
       "    </tr>\n",
       "  </tbody>\n",
       "</table>\n",
       "</div>"
      ],
      "text/plain": [
       "                       ts platform  ms_played conn_country  \\\n",
       "73   2024-01-01T08:14:03Z  android      30797           IN   \n",
       "79   2024-01-01T08:12:12Z  android      48278           IN   \n",
       "84   2024-01-01T08:20:55Z  android      47376           IN   \n",
       "90   2024-01-01T08:19:39Z  android      31672           IN   \n",
       "113  2024-01-01T11:04:30Z  android     188174           IN   \n",
       "\n",
       "                         Track_name  Artist_name        Album_name  \\\n",
       "73                        Oh My God        Adele                30   \n",
       "79                    High with You      Clemont  In the Beginning   \n",
       "84                        Despacito   Luis Fonsi              VIDA   \n",
       "90   MONTERO (Call Me By Your Name)    Lil Nas X           MONTERO   \n",
       "113                      Slow Hands  Niall Horan           Flicker   \n",
       "\n",
       "           date  year  sec_played  \n",
       "73   2024-01-01  2024          31  \n",
       "79   2024-01-01  2024          48  \n",
       "84   2024-01-01  2024          47  \n",
       "90   2024-01-01  2024          32  \n",
       "113  2024-01-01  2024         188  "
      ]
     },
     "execution_count": 31,
     "metadata": {},
     "output_type": "execute_result"
    }
   ],
   "source": [
    "spotify_2024.head()"
   ]
  },
  {
   "cell_type": "code",
   "execution_count": 32,
   "metadata": {},
   "outputs": [
    {
     "name": "stdout",
     "output_type": "stream",
     "text": [
      "<class 'pandas.core.frame.DataFrame'>\n",
      "Index: 17327 entries, 73 to 25319\n",
      "Data columns (total 10 columns):\n",
      " #   Column        Non-Null Count  Dtype \n",
      "---  ------        --------------  ----- \n",
      " 0   ts            17327 non-null  object\n",
      " 1   platform      17327 non-null  object\n",
      " 2   ms_played     17327 non-null  int64 \n",
      " 3   conn_country  17327 non-null  object\n",
      " 4   Track_name    17322 non-null  object\n",
      " 5   Artist_name   17322 non-null  object\n",
      " 6   Album_name    17322 non-null  object\n",
      " 7   date          17327 non-null  object\n",
      " 8   year          17327 non-null  int64 \n",
      " 9   sec_played    17327 non-null  int64 \n",
      "dtypes: int64(3), object(7)\n",
      "memory usage: 1.5+ MB\n"
     ]
    }
   ],
   "source": [
    "spotify_2024.info()"
   ]
  },
  {
   "cell_type": "code",
   "execution_count": 33,
   "metadata": {},
   "outputs": [
    {
     "data": {
      "text/plain": [
       "ts              17327\n",
       "platform            6\n",
       "ms_played       11951\n",
       "conn_country        1\n",
       "Track_name       6949\n",
       "Artist_name      2808\n",
       "Album_name       5602\n",
       "date              322\n",
       "year                1\n",
       "sec_played        403\n",
       "dtype: int64"
      ]
     },
     "execution_count": 33,
     "metadata": {},
     "output_type": "execute_result"
    }
   ],
   "source": [
    "spotify_2024.nunique()"
   ]
  },
  {
   "cell_type": "code",
   "execution_count": 39,
   "metadata": {},
   "outputs": [
    {
     "data": {
      "text/plain": [
       "ts              0\n",
       "platform        0\n",
       "ms_played       0\n",
       "conn_country    0\n",
       "Track_name      0\n",
       "Artist_name     0\n",
       "Album_name      0\n",
       "date            0\n",
       "year            0\n",
       "sec_played      0\n",
       "dtype: int64"
      ]
     },
     "execution_count": 39,
     "metadata": {},
     "output_type": "execute_result"
    }
   ],
   "source": [
    "spotify_2024.isna().sum()"
   ]
  },
  {
   "cell_type": "code",
   "execution_count": 38,
   "metadata": {},
   "outputs": [],
   "source": [
    "spotify_2024=spotify_2024.dropna()"
   ]
  },
  {
   "cell_type": "markdown",
   "metadata": {},
   "source": [
    "**possible analysis**\n",
    "1) top artist,songs and albums\n",
    "2) most streamed artist and song\n",
    "3) prefered platform\n",
    "4) most time listened on a particular date\n",
    "5) define genre (possible scraping from web)"
   ]
  },
  {
   "cell_type": "markdown",
   "metadata": {},
   "source": [
    "#### **TOP ARTISTS**"
   ]
  },
  {
   "cell_type": "code",
   "execution_count": 40,
   "metadata": {},
   "outputs": [],
   "source": [
    "top_artists = spotify_2024.groupby(by= ['Artist_name'])['Artist_name'].size().reset_index(name= 'Count')"
   ]
  },
  {
   "cell_type": "code",
   "execution_count": 41,
   "metadata": {},
   "outputs": [],
   "source": [
    "top_artists= top_artists.sort_values(by= 'Count', ascending=False).reset_index(drop= True)"
   ]
  },
  {
   "cell_type": "code",
   "execution_count": 42,
   "metadata": {},
   "outputs": [
    {
     "data": {
      "text/html": [
       "<div>\n",
       "<style scoped>\n",
       "    .dataframe tbody tr th:only-of-type {\n",
       "        vertical-align: middle;\n",
       "    }\n",
       "\n",
       "    .dataframe tbody tr th {\n",
       "        vertical-align: top;\n",
       "    }\n",
       "\n",
       "    .dataframe thead th {\n",
       "        text-align: right;\n",
       "    }\n",
       "</style>\n",
       "<table border=\"1\" class=\"dataframe\">\n",
       "  <thead>\n",
       "    <tr style=\"text-align: right;\">\n",
       "      <th></th>\n",
       "      <th>Artist_name</th>\n",
       "      <th>Count</th>\n",
       "    </tr>\n",
       "  </thead>\n",
       "  <tbody>\n",
       "    <tr>\n",
       "      <th>0</th>\n",
       "      <td>Lizzy McAlpine</td>\n",
       "      <td>240</td>\n",
       "    </tr>\n",
       "    <tr>\n",
       "      <th>1</th>\n",
       "      <td>Billie Marten</td>\n",
       "      <td>230</td>\n",
       "    </tr>\n",
       "    <tr>\n",
       "      <th>2</th>\n",
       "      <td>Yana</td>\n",
       "      <td>220</td>\n",
       "    </tr>\n",
       "    <tr>\n",
       "      <th>3</th>\n",
       "      <td>Cigarettes After Sex</td>\n",
       "      <td>218</td>\n",
       "    </tr>\n",
       "    <tr>\n",
       "      <th>4</th>\n",
       "      <td>BETWEEN FRIENDS</td>\n",
       "      <td>206</td>\n",
       "    </tr>\n",
       "  </tbody>\n",
       "</table>\n",
       "</div>"
      ],
      "text/plain": [
       "            Artist_name  Count\n",
       "0        Lizzy McAlpine    240\n",
       "1         Billie Marten    230\n",
       "2                  Yana    220\n",
       "3  Cigarettes After Sex    218\n",
       "4       BETWEEN FRIENDS    206"
      ]
     },
     "execution_count": 42,
     "metadata": {},
     "output_type": "execute_result"
    }
   ],
   "source": [
    "top_artists.head()"
   ]
  },
  {
   "cell_type": "markdown",
   "metadata": {},
   "source": [
    "#### **TOP SONGS**"
   ]
  },
  {
   "cell_type": "code",
   "execution_count": 43,
   "metadata": {},
   "outputs": [],
   "source": [
    "top_songs = spotify_2024.groupby(by= ['Artist_name','Track_name'])['Track_name'].size().reset_index(name= 'Count')"
   ]
  },
  {
   "cell_type": "code",
   "execution_count": 44,
   "metadata": {},
   "outputs": [],
   "source": [
    "top_songs=top_songs.sort_values('Count', ascending=False).reset_index(drop=True)"
   ]
  },
  {
   "cell_type": "code",
   "execution_count": 45,
   "metadata": {},
   "outputs": [
    {
     "data": {
      "text/html": [
       "<div>\n",
       "<style scoped>\n",
       "    .dataframe tbody tr th:only-of-type {\n",
       "        vertical-align: middle;\n",
       "    }\n",
       "\n",
       "    .dataframe tbody tr th {\n",
       "        vertical-align: top;\n",
       "    }\n",
       "\n",
       "    .dataframe thead th {\n",
       "        text-align: right;\n",
       "    }\n",
       "</style>\n",
       "<table border=\"1\" class=\"dataframe\">\n",
       "  <thead>\n",
       "    <tr style=\"text-align: right;\">\n",
       "      <th></th>\n",
       "      <th>Artist_name</th>\n",
       "      <th>Track_name</th>\n",
       "      <th>Count</th>\n",
       "    </tr>\n",
       "  </thead>\n",
       "  <tbody>\n",
       "    <tr>\n",
       "      <th>0</th>\n",
       "      <td>Yana</td>\n",
       "      <td>The Wall</td>\n",
       "      <td>66</td>\n",
       "    </tr>\n",
       "    <tr>\n",
       "      <th>1</th>\n",
       "      <td>Nectar Woode</td>\n",
       "      <td>Good Vibrations</td>\n",
       "      <td>45</td>\n",
       "    </tr>\n",
       "    <tr>\n",
       "      <th>2</th>\n",
       "      <td>Isabel Pless</td>\n",
       "      <td>The Bite</td>\n",
       "      <td>42</td>\n",
       "    </tr>\n",
       "    <tr>\n",
       "      <th>3</th>\n",
       "      <td>David Fleming</td>\n",
       "      <td>Domestic Bliss No. 1</td>\n",
       "      <td>42</td>\n",
       "    </tr>\n",
       "    <tr>\n",
       "      <th>4</th>\n",
       "      <td>Hannah Hill</td>\n",
       "      <td>Ur Mom</td>\n",
       "      <td>38</td>\n",
       "    </tr>\n",
       "  </tbody>\n",
       "</table>\n",
       "</div>"
      ],
      "text/plain": [
       "     Artist_name            Track_name  Count\n",
       "0           Yana              The Wall     66\n",
       "1   Nectar Woode       Good Vibrations     45\n",
       "2   Isabel Pless              The Bite     42\n",
       "3  David Fleming  Domestic Bliss No. 1     42\n",
       "4    Hannah Hill                Ur Mom     38"
      ]
     },
     "execution_count": 45,
     "metadata": {},
     "output_type": "execute_result"
    }
   ],
   "source": [
    "top_songs.head()"
   ]
  },
  {
   "cell_type": "markdown",
   "metadata": {},
   "source": [
    "#### **Top Album**"
   ]
  },
  {
   "cell_type": "code",
   "execution_count": 48,
   "metadata": {},
   "outputs": [],
   "source": [
    "top_album = spotify_2024.groupby(by= ['Track_name','Artist_name','Album_name'])['Album_name'].size().reset_index(name= 'Count')"
   ]
  },
  {
   "cell_type": "code",
   "execution_count": 54,
   "metadata": {},
   "outputs": [],
   "source": [
    "top_album.sort_values(by= 'Count', ascending=False, inplace=True)\n",
    "top_album.reset_index(drop=True, inplace=True)"
   ]
  },
  {
   "cell_type": "code",
   "execution_count": 55,
   "metadata": {},
   "outputs": [
    {
     "data": {
      "text/html": [
       "<div>\n",
       "<style scoped>\n",
       "    .dataframe tbody tr th:only-of-type {\n",
       "        vertical-align: middle;\n",
       "    }\n",
       "\n",
       "    .dataframe tbody tr th {\n",
       "        vertical-align: top;\n",
       "    }\n",
       "\n",
       "    .dataframe thead th {\n",
       "        text-align: right;\n",
       "    }\n",
       "</style>\n",
       "<table border=\"1\" class=\"dataframe\">\n",
       "  <thead>\n",
       "    <tr style=\"text-align: right;\">\n",
       "      <th></th>\n",
       "      <th>Track_name</th>\n",
       "      <th>Artist_name</th>\n",
       "      <th>Album_name</th>\n",
       "      <th>Count</th>\n",
       "    </tr>\n",
       "  </thead>\n",
       "  <tbody>\n",
       "    <tr>\n",
       "      <th>0</th>\n",
       "      <td>The Wall</td>\n",
       "      <td>Yana</td>\n",
       "      <td>The Wall</td>\n",
       "      <td>66</td>\n",
       "    </tr>\n",
       "    <tr>\n",
       "      <th>1</th>\n",
       "      <td>Good Vibrations</td>\n",
       "      <td>Nectar Woode</td>\n",
       "      <td>Good Vibrations</td>\n",
       "      <td>45</td>\n",
       "    </tr>\n",
       "    <tr>\n",
       "      <th>2</th>\n",
       "      <td>Domestic Bliss No. 1</td>\n",
       "      <td>David Fleming</td>\n",
       "      <td>Mr. &amp; Mrs. Smith (Prime Video Original Series ...</td>\n",
       "      <td>42</td>\n",
       "    </tr>\n",
       "    <tr>\n",
       "      <th>3</th>\n",
       "      <td>The Bite</td>\n",
       "      <td>Isabel Pless</td>\n",
       "      <td>The Bite</td>\n",
       "      <td>42</td>\n",
       "    </tr>\n",
       "    <tr>\n",
       "      <th>4</th>\n",
       "      <td>Ur Mom</td>\n",
       "      <td>Hannah Hill</td>\n",
       "      <td>Ur Mom</td>\n",
       "      <td>38</td>\n",
       "    </tr>\n",
       "  </tbody>\n",
       "</table>\n",
       "</div>"
      ],
      "text/plain": [
       "             Track_name    Artist_name  \\\n",
       "0              The Wall           Yana   \n",
       "1       Good Vibrations   Nectar Woode   \n",
       "2  Domestic Bliss No. 1  David Fleming   \n",
       "3              The Bite   Isabel Pless   \n",
       "4                Ur Mom    Hannah Hill   \n",
       "\n",
       "                                          Album_name  Count  \n",
       "0                                           The Wall     66  \n",
       "1                                    Good Vibrations     45  \n",
       "2  Mr. & Mrs. Smith (Prime Video Original Series ...     42  \n",
       "3                                           The Bite     42  \n",
       "4                                             Ur Mom     38  "
      ]
     },
     "execution_count": 55,
     "metadata": {},
     "output_type": "execute_result"
    }
   ],
   "source": [
    "top_album.head()"
   ]
  },
  {
   "cell_type": "markdown",
   "metadata": {},
   "source": [
    "#### **Most streamed artist and songs**"
   ]
  },
  {
   "cell_type": "code",
   "execution_count": 75,
   "metadata": {},
   "outputs": [],
   "source": [
    "most_streamed_as = spotify_2024.groupby(['Artist_name', 'Track_name']).agg(\n",
    "    Count=('Artist_name','size'),\n",
    "    Total_sec_played=('sec_played','sum')\n",
    "    ).reset_index()"
   ]
  },
  {
   "cell_type": "code",
   "execution_count": 77,
   "metadata": {},
   "outputs": [],
   "source": [
    "most_streamed_as=most_streamed_as.sort_values(by= 'Count', ascending=False).reset_index(drop= True)"
   ]
  },
  {
   "cell_type": "code",
   "execution_count": 81,
   "metadata": {},
   "outputs": [],
   "source": [
    "most_streamed_as['min_played'] = (most_streamed_as['Total_sec_played']/60).round()"
   ]
  },
  {
   "cell_type": "code",
   "execution_count": 82,
   "metadata": {},
   "outputs": [
    {
     "data": {
      "text/html": [
       "<div>\n",
       "<style scoped>\n",
       "    .dataframe tbody tr th:only-of-type {\n",
       "        vertical-align: middle;\n",
       "    }\n",
       "\n",
       "    .dataframe tbody tr th {\n",
       "        vertical-align: top;\n",
       "    }\n",
       "\n",
       "    .dataframe thead th {\n",
       "        text-align: right;\n",
       "    }\n",
       "</style>\n",
       "<table border=\"1\" class=\"dataframe\">\n",
       "  <thead>\n",
       "    <tr style=\"text-align: right;\">\n",
       "      <th></th>\n",
       "      <th>Artist_name</th>\n",
       "      <th>Track_name</th>\n",
       "      <th>Count</th>\n",
       "      <th>Total_sec_played</th>\n",
       "      <th>min_played</th>\n",
       "    </tr>\n",
       "  </thead>\n",
       "  <tbody>\n",
       "    <tr>\n",
       "      <th>0</th>\n",
       "      <td>Yana</td>\n",
       "      <td>The Wall</td>\n",
       "      <td>66</td>\n",
       "      <td>11642</td>\n",
       "      <td>194.0</td>\n",
       "    </tr>\n",
       "  </tbody>\n",
       "</table>\n",
       "</div>"
      ],
      "text/plain": [
       "  Artist_name Track_name  Count  Total_sec_played  min_played\n",
       "0        Yana   The Wall     66             11642       194.0"
      ]
     },
     "execution_count": 82,
     "metadata": {},
     "output_type": "execute_result"
    }
   ],
   "source": [
    "most_streamed_as.head(1)"
   ]
  },
  {
   "cell_type": "markdown",
   "metadata": {},
   "source": [
    "#### **Platform Analysis**"
   ]
  },
  {
   "cell_type": "code",
   "execution_count": 61,
   "metadata": {},
   "outputs": [],
   "source": [
    "platform_df = spotify_2024.groupby(['platform']).size().reset_index(name= 'Count')"
   ]
  },
  {
   "cell_type": "code",
   "execution_count": 68,
   "metadata": {},
   "outputs": [],
   "source": [
    "platform_df.loc[platform_df['platform']=='osx', 'platform'] = 'macos'"
   ]
  },
  {
   "cell_type": "code",
   "execution_count": 66,
   "metadata": {},
   "outputs": [],
   "source": [
    "platform_df= platform_df.drop([1,4]).reset_index(drop=True)"
   ]
  },
  {
   "cell_type": "code",
   "execution_count": 69,
   "metadata": {},
   "outputs": [
    {
     "data": {
      "text/html": [
       "<div>\n",
       "<style scoped>\n",
       "    .dataframe tbody tr th:only-of-type {\n",
       "        vertical-align: middle;\n",
       "    }\n",
       "\n",
       "    .dataframe tbody tr th {\n",
       "        vertical-align: top;\n",
       "    }\n",
       "\n",
       "    .dataframe thead th {\n",
       "        text-align: right;\n",
       "    }\n",
       "</style>\n",
       "<table border=\"1\" class=\"dataframe\">\n",
       "  <thead>\n",
       "    <tr style=\"text-align: right;\">\n",
       "      <th></th>\n",
       "      <th>platform</th>\n",
       "      <th>Count</th>\n",
       "    </tr>\n",
       "  </thead>\n",
       "  <tbody>\n",
       "    <tr>\n",
       "      <th>0</th>\n",
       "      <td>android</td>\n",
       "      <td>15162</td>\n",
       "    </tr>\n",
       "    <tr>\n",
       "      <th>1</th>\n",
       "      <td>macos</td>\n",
       "      <td>1653</td>\n",
       "    </tr>\n",
       "    <tr>\n",
       "      <th>2</th>\n",
       "      <td>playstation</td>\n",
       "      <td>2</td>\n",
       "    </tr>\n",
       "    <tr>\n",
       "      <th>3</th>\n",
       "      <td>windows</td>\n",
       "      <td>419</td>\n",
       "    </tr>\n",
       "  </tbody>\n",
       "</table>\n",
       "</div>"
      ],
      "text/plain": [
       "      platform  Count\n",
       "0      android  15162\n",
       "1        macos   1653\n",
       "2  playstation      2\n",
       "3      windows    419"
      ]
     },
     "execution_count": 69,
     "metadata": {},
     "output_type": "execute_result"
    }
   ],
   "source": [
    "platform_df"
   ]
  }
 ],
 "metadata": {
  "kernelspec": {
   "display_name": "Python 3",
   "language": "python",
   "name": "python3"
  },
  "language_info": {
   "codemirror_mode": {
    "name": "ipython",
    "version": 3
   },
   "file_extension": ".py",
   "mimetype": "text/x-python",
   "name": "python",
   "nbconvert_exporter": "python",
   "pygments_lexer": "ipython3",
   "version": "3.12.4"
  }
 },
 "nbformat": 4,
 "nbformat_minor": 2
}
